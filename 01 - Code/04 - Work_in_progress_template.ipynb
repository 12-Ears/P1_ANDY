{
 "cells": [
  {
   "cell_type": "markdown",
   "id": "9ee505c7-d17b-4168-8575-098c7c7e1303",
   "metadata": {},
   "source": [
    "## 01 - Importing packages"
   ]
  },
  {
   "cell_type": "code",
   "execution_count": 2,
   "id": "42477d03-1cb1-4fd4-9a14-f23827232018",
   "metadata": {},
   "outputs": [],
   "source": [
    "import os\n",
    "import numpy as np\n",
    "from sklearn import datasets\n",
    "from sklearn.pipeline import Pipeline\n",
    "from sklearn.preprocessing import StandardScaler, MinMaxScaler\n",
    "from sklearn.svm import LinearSVC\n",
    "from sklearn.metrics import accuracy_score, confusion_matrix, classification_report\n"
   ]
  },
  {
   "cell_type": "markdown",
   "id": "963e0b8d-0cda-48bb-a148-307f24003bf7",
   "metadata": {},
   "source": [
    "## 02 - Functions"
   ]
  },
  {
   "cell_type": "code",
   "execution_count": 1,
   "id": "2851f0a4-6890-46a4-ad66-8a1afe7d1996",
   "metadata": {},
   "outputs": [],
   "source": [
    "Place your functions here\n",
    "    \n"
   ]
  },
  {
   "cell_type": "markdown",
   "id": "3e54e49f-5193-4aa6-8110-dd694ed16128",
   "metadata": {},
   "source": [
    "## 03 - Dataset"
   ]
  },
  {
   "cell_type": "markdown",
   "id": "3cebb6b3-6519-4afb-b9fd-f0d689d907ba",
   "metadata": {
    "tags": []
   },
   "source": [
    "### 01 - NearMiss Under-sampling"
   ]
  },
  {
   "cell_type": "code",
   "execution_count": 12,
   "id": "888c5df3-e547-4ddb-93e3-c5a3b6e69114",
   "metadata": {},
   "outputs": [
    {
     "data": {
      "text/plain": [
       "<AxesSubplot:xlabel='OverallPoF', ylabel='count'>"
      ]
     },
     "execution_count": 12,
     "metadata": {},
     "output_type": "execute_result"
    },
    {
     "data": {
      "image/png": "[encoded data removed]",
      "text/plain": [
       "<Figure size 432x288 with 1 Axes>"
      ]
     },
     "metadata": {
      "needs_background": "light"
     },
     "output_type": "display_data"
    }
   ],
   "source": [
    "X_train1=pd.read_csv(\"C:\\\\Users\\\\AndyJ\\\\12-Ears\\\\P1\\\\03 - Code\\\\00 - Dataset\\\\03 - Sampling Splits\\\\01 - NM2\\\\X_train.csv\")\n",
    "X_test1=pd.read_csv(\"C:\\\\Users\\\\AndyJ\\\\12-Ears\\\\P1\\\\03 - Code\\\\00 - Dataset\\\\03 - Sampling Splits\\\\01 - NM2\\\\X_test.csv\")\n",
    "y_train1=pd.read_csv(\"C:\\\\Users\\\\AndyJ\\\\12-Ears\\\\P1\\\\03 - Code\\\\00 - Dataset\\\\03 - Sampling Splits\\\\01 - NM2\\\\y_train.csv\")\n",
    "y_test1=pd.read_csv(\"C:\\\\Users\\\\AndyJ\\\\12-Ears\\\\P1\\\\03 - Code\\\\00 - Dataset\\\\03 - Sampling Splits\\\\01 - NM2\\\\y_test.csv\")\n",
    "sb.countplot(y_train1['OverallPoF'],fill='OverallPoF')"
   ]
  },
  {
   "cell_type": "code",
   "execution_count": 22,
   "id": "3eafd370-1d00-4094-888c-a64101291a97",
   "metadata": {},
   "outputs": [],
   "source": [
    "X_train1=X_train1.filter(regex='fa',axis=1)\n",
    "X_test1=X_test1.filter(regex='fa',axis=1)"
   ]
  },
  {
   "cell_type": "markdown",
   "id": "b4a966df-8646-4ed3-8ea7-cbf62e0fc404",
   "metadata": {},
   "source": [
    "### 02 - SMOTE Over-sampling"
   ]
  },
  {
   "cell_type": "code",
   "execution_count": 14,
   "id": "b72281e3-294f-4508-b623-cbb0b6c82c13",
   "metadata": {},
   "outputs": [
    {
     "data": {
      "text/plain": [
       "<AxesSubplot:xlabel='OverallPoF', ylabel='count'>"
      ]
     },
     "execution_count": 14,
     "metadata": {},
     "output_type": "execute_result"
    },
    {
     "data": {
      "image/png": "[encoded data removed]",
      "text/plain": [
       "<Figure size 432x288 with 1 Axes>"
      ]
     },
     "metadata": {
      "needs_background": "light"
     },
     "output_type": "display_data"
    }
   ],
   "source": [
    "X_train2=pd.read_csv(\"C:\\\\Users\\\\AndyJ\\\\12-Ears\\\\P1\\\\03 - Code\\\\00 - Dataset\\\\03 - Sampling Splits\\\\02 - SMOTE\\\\X_train.csv\")\n",
    "X_test2=pd.read_csv(\"C:\\\\Users\\\\AndyJ\\\\12-Ears\\\\P1\\\\03 - Code\\\\00 - Dataset\\\\03 - Sampling Splits\\\\02 - SMOTE\\\\X_test.csv\")\n",
    "y_train2=pd.read_csv(\"C:\\\\Users\\\\AndyJ\\\\12-Ears\\\\P1\\\\03 - Code\\\\00 - Dataset\\\\03 - Sampling Splits\\\\02 - SMOTE\\\\y_train.csv\")\n",
    "y_test2=pd.read_csv(\"C:\\\\Users\\\\AndyJ\\\\12-Ears\\\\P1\\\\03 - Code\\\\00 - Dataset\\\\03 - Sampling Splits\\\\02 - SMOTE\\\\y_test.csv\")\n",
    "sb.countplot(y_train2['OverallPoF'],fill='OverallPoF')"
   ]
  },
  {
   "cell_type": "code",
   "execution_count": 21,
   "id": "39442254-2139-49fe-b053-c03b0691904c",
   "metadata": {},
   "outputs": [],
   "source": [
    "X_train2=X_train2.filter(regex='fa',axis=1)\n",
    "X_test2=X_test2.filter(regex='fa',axis=1)"
   ]
  },
  {
   "cell_type": "markdown",
   "id": "56efa7df-679b-4723-9125-a50cf7863d02",
   "metadata": {},
   "source": [
    "### 03 - SMOTEENN"
   ]
  },
  {
   "cell_type": "code",
   "execution_count": 13,
   "id": "e62ddad1-3a46-4da6-b122-d179ca0cb769",
   "metadata": {},
   "outputs": [
    {
     "data": {
      "text/plain": [
       "<AxesSubplot:xlabel='OverallPoF', ylabel='count'>"
      ]
     },
     "execution_count": 13,
     "metadata": {},
     "output_type": "execute_result"
    },
    {
     "data": {
      "image/png": "[encoded data removed]",
      "text/plain": [
       "<Figure size 432x288 with 1 Axes>"
      ]
     },
     "metadata": {
      "needs_background": "light"
     },
     "output_type": "display_data"
    }
   ],
   "source": [
    "X_train3=pd.read_csv(\"C:\\\\Users\\\\AndyJ\\\\12-Ears\\\\P1\\\\03 - Code\\\\00 - Dataset\\\\03 - Sampling Splits\\\\03 - SMOTEENN\\\\X_train.csv\")\n",
    "X_test3=pd.read_csv(\"C:\\\\Users\\\\AndyJ\\\\12-Ears\\\\P1\\\\03 - Code\\\\00 - Dataset\\\\03 - Sampling Splits\\\\03 - SMOTEENN\\\\X_test.csv\")\n",
    "y_train3=pd.read_csv(\"C:\\\\Users\\\\AndyJ\\\\12-Ears\\\\P1\\\\03 - Code\\\\00 - Dataset\\\\03 - Sampling Splits\\\\03 - SMOTEENN\\\\y_train.csv\")\n",
    "y_test3=pd.read_csv(\"C:\\\\Users\\\\AndyJ\\\\12-Ears\\\\P1\\\\03 - Code\\\\00 - Dataset\\\\03 - Sampling Splits\\\\03 - SMOTEENN\\\\y_test.csv\")\n",
    "sb.countplot(y_train3['OverallPoF'],fill='OverallPoF')"
   ]
  },
  {
   "cell_type": "code",
   "execution_count": 27,
   "id": "fae8968c-f2ea-47f6-8810-6ef547744b51",
   "metadata": {},
   "outputs": [],
   "source": [
    "X_train3=X_train3.filter(regex='fa',axis=1)\n",
    "X_test3=X_test3.filter(regex='fa',axis=1)"
   ]
  },
  {
   "cell_type": "markdown",
   "id": "2adfdade-ba89-4f14-b67a-c0b9b69fcab2",
   "metadata": {},
   "source": [
    "### 04 - SMOTETomek"
   ]
  },
  {
   "cell_type": "code",
   "execution_count": 15,
   "id": "f595f13d-42e4-458a-a080-6e6d79e8a10f",
   "metadata": {},
   "outputs": [
    {
     "data": {
      "text/plain": [
       "<AxesSubplot:xlabel='OverallPoF', ylabel='count'>"
      ]
     },
     "execution_count": 15,
     "metadata": {},
     "output_type": "execute_result"
    },
    {
     "data": {
      "image/png": "[encoded data removed]",
      "text/plain": [
       "<Figure size 432x288 with 1 Axes>"
      ]
     },
     "metadata": {
      "needs_background": "light"
     },
     "output_type": "display_data"
    }
   ],
   "source": [
    "X_train4=pd.read_csv(\"C:\\\\Users\\\\AndyJ\\\\12-Ears\\\\P1\\\\03 - Code\\\\00 - Dataset\\\\03 - Sampling Splits\\\\04 - SMOTETomek\\\\X_train.csv\")\n",
    "X_test4=pd.read_csv(\"C:\\\\Users\\\\AndyJ\\\\12-Ears\\\\P1\\\\03 - Code\\\\00 - Dataset\\\\03 - Sampling Splits\\\\04 - SMOTETomek\\\\X_test.csv\")\n",
    "y_train4=pd.read_csv(\"C:\\\\Users\\\\AndyJ\\\\12-Ears\\\\P1\\\\03 - Code\\\\00 - Dataset\\\\03 - Sampling Splits\\\\04 - SMOTETomek\\\\y_train.csv\")\n",
    "y_test4=pd.read_csv(\"C:\\\\Users\\\\AndyJ\\\\12-Ears\\\\P1\\\\03 - Code\\\\00 - Dataset\\\\03 - Sampling Splits\\\\04 - SMOTETomek\\\\y_test.csv\")\n",
    "sb.countplot(y_train4['OverallPoF'],fill='OverallPoF')"
   ]
  },
  {
   "cell_type": "markdown",
   "id": "418330bc-195f-459c-84c3-b55c7f810a2e",
   "metadata": {},
   "source": [
    "## 04 - Feature Selection"
   ]
  },
  {
   "cell_type": "markdown",
   "id": "7d88e707-0d6c-466a-9ffe-9ae0e0f79835",
   "metadata": {},
   "source": [
    "### 01 - Method 1"
   ]
  },
  {
   "cell_type": "markdown",
   "id": "356ab0b7-f2e2-436b-b1b2-fa691a67bbe2",
   "metadata": {},
   "source": [
    "#### 01 - Sub-Method 1"
   ]
  },
  {
   "cell_type": "markdown",
   "id": "a7ef72d9-fb7f-4c72-9033-529a34dc93e1",
   "metadata": {},
   "source": [
    "##### 01 - Nearmiss Results"
   ]
  },
  {
   "cell_type": "markdown",
   "id": "e87f8d82-2582-4f51-a075-206378e6de2d",
   "metadata": {},
   "source": [
    "##### 02 - SMOTE Results"
   ]
  },
  {
   "cell_type": "markdown",
   "id": "bf9b2459-1bb4-431f-b993-fc987309b0b3",
   "metadata": {},
   "source": [
    "##### 03 - SMOTEENN Results"
   ]
  },
  {
   "cell_type": "markdown",
   "id": "20631092-2ec7-4b59-90a6-9d35e217a806",
   "metadata": {
    "jp-MarkdownHeadingCollapsed": true,
    "tags": []
   },
   "source": [
    "##### 04 - SMOTETomek Results"
   ]
  },
  {
   "cell_type": "markdown",
   "id": "fa7f784d-d755-4260-b88e-18ffe555a644",
   "metadata": {},
   "source": [
    "#### 02 - K-Means Clustering"
   ]
  },
  {
   "cell_type": "markdown",
   "id": "a4e68f7a-324f-42b9-8d07-f1c188324a43",
   "metadata": {},
   "source": [
    "##### 01 - Nearmiss Results"
   ]
  },
  {
   "cell_type": "markdown",
   "id": "df05353f-9ad9-458f-aedf-4bf635694730",
   "metadata": {},
   "source": [
    "##### 02 - SMOTE Results"
   ]
  },
  {
   "cell_type": "markdown",
   "id": "4f031556-4b2f-4c4b-8e7f-6eea7052a9f1",
   "metadata": {},
   "source": [
    "##### 03 - SMOTEENN Results"
   ]
  },
  {
   "cell_type": "markdown",
   "id": "a506619a-40bf-48f2-b3d9-bd0a70137ec8",
   "metadata": {
    "jp-MarkdownHeadingCollapsed": true,
    "tags": []
   },
   "source": [
    "##### 04 - SMOTETomek Results"
   ]
  },
  {
   "cell_type": "markdown",
   "id": "26e11194-2eb4-4ad7-9c1f-14f597fa065c",
   "metadata": {},
   "source": [
    "### 02 - Method 2"
   ]
  },
  {
   "cell_type": "markdown",
   "id": "c693c560-d8b2-43bd-b8e3-a4cc267298f9",
   "metadata": {},
   "source": [
    "#### 01 - Recursive Feature Elimination (RFE)"
   ]
  },
  {
   "cell_type": "markdown",
   "id": "2d9efd2b-0757-460a-a8c2-e676bebd3231",
   "metadata": {},
   "source": [
    "##### 01 - Nearmiss Results"
   ]
  },
  {
   "cell_type": "markdown",
   "id": "6cb36944-6687-4d08-90cc-29bd70c13e01",
   "metadata": {},
   "source": [
    "##### 02 - SMOTE Results"
   ]
  },
  {
   "cell_type": "markdown",
   "id": "3c5af71f-f678-45c4-9c8e-f0f7dcfbb8aa",
   "metadata": {},
   "source": [
    "##### 03 - SMOTEENN Results"
   ]
  },
  {
   "cell_type": "markdown",
   "id": "fde39dfe-a404-4d23-9c0b-ac55c4c973ea",
   "metadata": {},
   "source": [
    "##### 04 - SMOTETomek Results"
   ]
  },
  {
   "cell_type": "markdown",
   "id": "81de47d5-5cdc-48dd-a7bd-32940fb03b1b",
   "metadata": {},
   "source": [
    "#### 02 - Linear SVC"
   ]
  },
  {
   "cell_type": "markdown",
   "id": "315660ac-1393-4832-a868-694ce9ccfa88",
   "metadata": {},
   "source": [
    "##### 01 - Nearmiss Results"
   ]
  },
  {
   "cell_type": "markdown",
   "id": "d38efbc1-f277-4b37-9062-a77c4b84570a",
   "metadata": {},
   "source": [
    "##### 02 - SMOTE Results"
   ]
  },
  {
   "cell_type": "markdown",
   "id": "dc7267cd-96d7-46d6-ab4c-776424e4b59b",
   "metadata": {},
   "source": [
    "##### 03 - SMOTEENN Results"
   ]
  },
  {
   "cell_type": "markdown",
   "id": "c5c45662-399a-4cfc-9305-5867ccad40d9",
   "metadata": {},
   "source": [
    "##### 04 - SMOTETomek Results"
   ]
  },
  {
   "cell_type": "markdown",
   "id": "fb796e16-a492-4cd0-bac0-df70dd6fa2c1",
   "metadata": {},
   "source": [
    "#### 03 - Sequential Feature Selection"
   ]
  },
  {
   "cell_type": "markdown",
   "id": "3cb1eff5-092c-4cde-b61e-df1801010075",
   "metadata": {},
   "source": [
    "##### 01 - Nearmiss Results"
   ]
  },
  {
   "cell_type": "markdown",
   "id": "79a9dd68-dbdc-4f7a-984f-695fd4c12796",
   "metadata": {},
   "source": [
    "##### 02 - SMOTE Results"
   ]
  },
  {
   "cell_type": "markdown",
   "id": "6fdf2ea5-4906-4170-b29e-f5ad607f5c7f",
   "metadata": {},
   "source": [
    "##### 03 - SMOTEENN Results"
   ]
  },
  {
   "cell_type": "markdown",
   "id": "06abb048-bb08-481b-a13c-b386cd3e5f3d",
   "metadata": {},
   "source": [
    "##### 04 - SMOTETomek Results"
   ]
  },
  {
   "cell_type": "markdown",
   "id": "ca9ad15f-6d3a-4a3d-8a51-7989ef3926bf",
   "metadata": {},
   "source": [
    "#### 04 - K-Best"
   ]
  },
  {
   "cell_type": "markdown",
   "id": "34b5ce1d-9a08-472c-965b-4db2c46f9482",
   "metadata": {},
   "source": [
    "##### 01 - Nearmiss Results"
   ]
  },
  {
   "cell_type": "markdown",
   "id": "825f48c1-d05f-4aac-bc30-4d904bf0c6a2",
   "metadata": {},
   "source": [
    "##### 02 - SMOTE Results"
   ]
  },
  {
   "cell_type": "markdown",
   "id": "2fcdebe7-3e01-4550-9505-46a0a69e0f19",
   "metadata": {},
   "source": [
    "##### 03 - SMOTEENN Results"
   ]
  },
  {
   "cell_type": "markdown",
   "id": "11125d3e-f298-4de4-8f3d-b74a4744fd12",
   "metadata": {},
   "source": [
    "##### 04 - SMOTETomek Results"
   ]
  },
  {
   "cell_type": "markdown",
   "id": "85bcd480-28fa-4f1b-bedd-f6fa98ade5dd",
   "metadata": {},
   "source": [
    "## 05 - Classification model"
   ]
  },
  {
   "cell_type": "markdown",
   "id": "36f26b05-348e-4dc4-9060-eeec022d3c39",
   "metadata": {},
   "source": [
    "### 01 - Hyperparameter tuning"
   ]
  },
  {
   "cell_type": "markdown",
   "id": "22192e45-1447-47c3-907b-ae4cd6caa7fc",
   "metadata": {},
   "source": [
    "#### 01 - LOOCV"
   ]
  },
  {
   "cell_type": "markdown",
   "id": "bb17a5ef-cc4b-49cd-8b27-695224fda167",
   "metadata": {},
   "source": [
    "#### 02 - K-fold CV"
   ]
  },
  {
   "cell_type": "markdown",
   "id": "221ff38d-a76c-4b1b-9e43-47a88bc511c9",
   "metadata": {},
   "source": [
    "#### 03 - Summary Visualisations"
   ]
  },
  {
   "cell_type": "markdown",
   "id": "9e286e35-588b-41dd-825f-0dd5f4b7953f",
   "metadata": {},
   "source": [
    "### 02 - Validation of final model"
   ]
  },
  {
   "cell_type": "markdown",
   "id": "b3a22861-8fca-4c7d-9b1a-d2edbdc92faf",
   "metadata": {},
   "source": [
    "#### 01 - LOOCV"
   ]
  },
  {
   "cell_type": "markdown",
   "id": "e94e55b0-f007-42f7-a99c-b3c8a4b1d464",
   "metadata": {},
   "source": [
    "#### 02 - K-fold CV"
   ]
  },
  {
   "cell_type": "markdown",
   "id": "6f3a801c-c5d4-41dd-929a-3febd72b492a",
   "metadata": {},
   "source": [
    "#### 03 - Summary Visualisations"
   ]
  },
  {
   "cell_type": "markdown",
   "id": "c19f00bd-c93c-4413-a1df-0c1bc6956f9f",
   "metadata": {},
   "source": [
    "## 06 - Model Explainability"
   ]
  },
  {
   "cell_type": "markdown",
   "id": "5c6d32fc-d4a2-458c-9060-bb4b1924a1c4",
   "metadata": {},
   "source": [
    "#### 01 - Summary Visualisations"
   ]
  },
  {
   "cell_type": "markdown",
   "id": "1f0e4383-d31a-4904-a338-fe6954b2fe1d",
   "metadata": {},
   "source": [
    "## 07 - Conclusions"
   ]
  }
 ],
 "metadata": {
  "kernelspec": {
   "display_name": "Python 3 (ipykernel)",
   "language": "python",
   "name": "python3"
  },
  "language_info": {
   "codemirror_mode": {
    "name": "ipython",
    "version": 3
   },
   "file_extension": ".py",
   "mimetype": "text/x-python",
   "name": "python",
   "nbconvert_exporter": "python",
   "pygments_lexer": "ipython3",
   "version": "3.9.12"
  }
 },
 "nbformat": 4,
 "nbformat_minor": 5
}
