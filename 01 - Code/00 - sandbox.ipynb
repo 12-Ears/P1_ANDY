{
 "cells": [
  {
   "cell_type": "markdown",
   "id": "40c57517-19ba-4f14-a367-23910b714a9d",
   "metadata": {},
   "source": [
    "### Testing log normal superposition"
   ]
  },
  {
   "cell_type": "code",
   "execution_count": null,
   "id": "d0ce9303-1dae-4344-9028-b2dd41aef64d",
   "metadata": {},
   "outputs": [],
   "source": []
  }
 ],
 "metadata": {
  "kernelspec": {
   "display_name": "Python 3 (ipykernel)",
   "language": "python",
   "name": "python3"
  },
  "language_info": {
   "codemirror_mode": {
    "name": "ipython",
    "version": 3
   },
   "file_extension": ".py",
   "mimetype": "text/x-python",
   "name": "python",
   "nbconvert_exporter": "python",
   "pygments_lexer": "ipython3",
   "version": "3.9.12"
  },
  "toc-autonumbering": true
 },
 "nbformat": 4,
 "nbformat_minor": 5
}
